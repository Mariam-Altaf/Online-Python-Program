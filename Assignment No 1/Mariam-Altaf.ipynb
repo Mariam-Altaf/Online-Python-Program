{
 "cells": [
  {
   "cell_type": "code",
   "execution_count": 1,
   "id": "e923cfa8",
   "metadata": {},
   "outputs": [
    {
     "name": "stdout",
     "output_type": "stream",
     "text": [
      "Twinkle, twinkle, little star, \n",
      "\tHow I wonder what you are! \n",
      "\t\tUp above the world so high, \n",
      "\t\tLike a diamond in the sky. \n",
      "Twinkle, twinkle, little star, \n",
      "\tHow I wonder what you are!\n"
     ]
    }
   ],
   "source": [
    "#Question 1\n",
    "print(\"Twinkle, twinkle, little star, \\n\\tHow I wonder what you are! \\n\\t\\tUp above the world so high, \\n\\t\\tLike a diamond in the sky. \\nTwinkle, twinkle, little star, \\n\\tHow I wonder what you are!\")"
   ]
  },
  {
   "cell_type": "code",
   "execution_count": 2,
   "id": "26ac213a",
   "metadata": {},
   "outputs": [
    {
     "name": "stdout",
     "output_type": "stream",
     "text": [
      "Python version\n",
      "3.9.7 (default, Sep 16 2021, 16:59:28) [MSC v.1916 64 bit (AMD64)]\n"
     ]
    }
   ],
   "source": [
    "#Question 2\n",
    "import sys\n",
    "print (\"Python version\")\n",
    "print (sys.version)"
   ]
  },
  {
   "cell_type": "code",
   "execution_count": 3,
   "id": "ebef4a39",
   "metadata": {},
   "outputs": [
    {
     "name": "stdout",
     "output_type": "stream",
     "text": [
      "Now= 2022-01-01 23:26:43.568273\n"
     ]
    }
   ],
   "source": [
    "#Question 3\n",
    "from datetime import datetime\n",
    "now= datetime.now()\n",
    "print (\"Now=\", now)"
   ]
  },
  {
   "cell_type": "code",
   "execution_count": 4,
   "id": "cc47ce99",
   "metadata": {},
   "outputs": [
    {
     "name": "stdout",
     "output_type": "stream",
     "text": [
      "Input the radius of the circle : 3\n",
      "The area of the circle with radius 3.0 is: 28.274333882308138\n"
     ]
    }
   ],
   "source": [
    "#Question 4\n",
    "from math import pi\n",
    "rad = float(input (\"Input the radius of the circle : \"))\n",
    "print (\"The area of the circle with radius \" + str(rad) + \" is: \" + str(pi * rad**2))"
   ]
  },
  {
   "cell_type": "code",
   "execution_count": 5,
   "id": "27d45e8c",
   "metadata": {},
   "outputs": [
    {
     "name": "stdout",
     "output_type": "stream",
     "text": [
      "Input your First Name : Mariam\n",
      "Input your Last Name : Altaf\n",
      "Name in reverse order with a space between: Altaf Mariam\n"
     ]
    }
   ],
   "source": [
    "#Question 5\n",
    "firstname = input(\"Input your First Name : \")\n",
    "lastname = input(\"Input your Last Name : \")\n",
    "print (\"Name in reverse order with a space between: \" + lastname + \" \" + firstname)"
   ]
  },
  {
   "cell_type": "code",
   "execution_count": 6,
   "id": "4ef223b7",
   "metadata": {},
   "outputs": [
    {
     "name": "stdout",
     "output_type": "stream",
     "text": [
      "Enter first number: 4\n",
      "Enter second number: 21\n",
      "The sum is 25.0\n"
     ]
    }
   ],
   "source": [
    "#Question 6\n",
    "number1 = input('Enter first number: ')\n",
    "number2 = input('Enter second number: ')\n",
    "sum = float(number1) + float(number2)\n",
    "print('The sum is', sum)"
   ]
  },
  {
   "cell_type": "code",
   "execution_count": null,
   "id": "328d20c5",
   "metadata": {},
   "outputs": [],
   "source": []
  }
 ],
 "metadata": {
  "kernelspec": {
   "display_name": "Python 3 (ipykernel)",
   "language": "python",
   "name": "python3"
  },
  "language_info": {
   "codemirror_mode": {
    "name": "ipython",
    "version": 3
   },
   "file_extension": ".py",
   "mimetype": "text/x-python",
   "name": "python",
   "nbconvert_exporter": "python",
   "pygments_lexer": "ipython3",
   "version": "3.9.7"
  }
 },
 "nbformat": 4,
 "nbformat_minor": 5
}
